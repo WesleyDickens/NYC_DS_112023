{
 "cells": [
  {
   "cell_type": "markdown",
   "metadata": {
    "slideshow": {
     "slide_type": "slide"
    }
   },
   "source": [
    "<div style=\"color:white;\n",
    "           display:fill;\n",
    "           border-radius:5px;\n",
    "           background-color:#5642C5;\n",
    "           font-size:200%;\n",
    "           font-family:Arial;letter-spacing:0.5px\">\n",
    "\n",
    "<p width = 20%, style=\"padding: 10px;\n",
    "              color:white;\">\n",
    "Base Python: File Input and Output\n",
    "              \n",
    "</p>\n",
    "</div>\n",
    "\n",
    "Data Science Cohort Live NYC Feb 2022\n",
    "<p>Phase 1: Topic 3</p>\n",
    "<br>\n",
    "<br>\n",
    "\n",
    "<div align = \"right\">\n",
    "<img src=\"Images/flatiron-school-logo.png\" align = \"right\" width=\"200\"/>\n",
    "</div>\n",
    "    \n",
    "    "
   ]
  },
  {
   "cell_type": "markdown",
   "metadata": {
    "cell_style": "center",
    "slideshow": {
     "slide_type": "slide"
    }
   },
   "source": [
    "#### File input/output in Python\n",
    "* Read data from files into Python\n",
    "* Write data from Python into files\n",
    "* Key file types and how to interact with them in Python"
   ]
  },
  {
   "cell_type": "markdown",
   "metadata": {
    "cell_style": "center",
    "slideshow": {
     "slide_type": "slide"
    }
   },
   "source": [
    "#### \"In Memory\" \n",
    "\n",
    "- \"In Memory\" = in RAM \n",
    "    - data loaded here for fast manipulation: when data in use.\n",
    "    - program (Python) manipulates/accesses data in this memory\n",
    "    - data off-loaded from RAM after Python kernel shuts down.\n",
    "    - limited (a few gigs max)\n",
    "\n",
    "   "
   ]
  },
  {
   "cell_type": "markdown",
   "metadata": {
    "slideshow": {
     "slide_type": "slide"
    }
   },
   "source": [
    "Create a variable x:"
   ]
  },
  {
   "cell_type": "code",
   "execution_count": 1,
   "metadata": {
    "slideshow": {
     "slide_type": "fragment"
    }
   },
   "outputs": [],
   "source": [
    "x = [5, 6, 7]"
   ]
  },
  {
   "cell_type": "markdown",
   "metadata": {
    "slideshow": {
     "slide_type": "fragment"
    }
   },
   "source": [
    "- `x` now exists in memory (RAM)."
   ]
  },
  {
   "cell_type": "code",
   "execution_count": 2,
   "metadata": {
    "slideshow": {
     "slide_type": "fragment"
    }
   },
   "outputs": [
    {
     "data": {
      "text/plain": [
<<<<<<< HEAD
       "'0x108b964c0'"
=======
       "'0x26ee9a531c0'"
>>>>>>> upstream/main
      ]
     },
     "execution_count": 2,
     "metadata": {},
     "output_type": "execute_result"
    }
   ],
   "source": [
    "hex(id(x))"
   ]
  },
  {
   "cell_type": "markdown",
   "metadata": {
    "slideshow": {
     "slide_type": "slide"
    }
   },
   "source": [
    "Then let's say we modify the value of this variable:"
   ]
  },
  {
   "cell_type": "code",
   "execution_count": 3,
   "metadata": {
    "slideshow": {
     "slide_type": "fragment"
    }
   },
   "outputs": [
    {
     "data": {
      "text/plain": [
       "[10, 6, 7]"
      ]
     },
     "execution_count": 3,
     "metadata": {},
     "output_type": "execute_result"
    }
   ],
   "source": [
    "x[0] = 10\n",
    "x"
   ]
  },
  {
   "cell_type": "markdown",
   "metadata": {
    "slideshow": {
     "slide_type": "fragment"
    }
   },
   "source": [
    "If we check the address, it hasn't changed:"
   ]
  },
  {
   "cell_type": "code",
   "execution_count": 4,
   "metadata": {
    "slideshow": {
     "slide_type": "fragment"
    }
   },
   "outputs": [
    {
     "data": {
      "text/plain": [
<<<<<<< HEAD
       "'0x108b964c0'"
=======
       "'0x26ee9a531c0'"
>>>>>>> upstream/main
      ]
     },
     "execution_count": 4,
     "metadata": {},
     "output_type": "execute_result"
    }
   ],
   "source": [
    "hex(id(x))"
   ]
  },
  {
   "cell_type": "markdown",
   "metadata": {
    "slideshow": {
     "slide_type": "fragment"
    }
   },
   "source": [
    "Quickly accessing/changing elements in memory alotted to `x`."
   ]
  },
  {
   "cell_type": "markdown",
   "metadata": {
    "slideshow": {
     "slide_type": "slide"
    }
   },
   "source": [
    "Restart the kernel."
   ]
  },
  {
   "cell_type": "code",
<<<<<<< HEAD
   "execution_count": 5,
=======
   "execution_count": 1,
>>>>>>> upstream/main
   "metadata": {
    "slideshow": {
     "slide_type": "fragment"
    }
   },
   "outputs": [
    {
<<<<<<< HEAD
     "data": {
      "text/plain": [
       "[10, 6, 7]"
      ]
     },
     "execution_count": 5,
     "metadata": {},
     "output_type": "execute_result"
=======
     "ename": "NameError",
     "evalue": "name 'x' is not defined",
     "output_type": "error",
     "traceback": [
      "\u001b[1;31m---------------------------------------------------------------------------\u001b[0m",
      "\u001b[1;31mNameError\u001b[0m                                 Traceback (most recent call last)",
      "\u001b[1;32m~\\AppData\\Local\\Temp/ipykernel_18476/32546335.py\u001b[0m in \u001b[0;36m<module>\u001b[1;34m\u001b[0m\n\u001b[1;32m----> 1\u001b[1;33m \u001b[0mx\u001b[0m\u001b[1;33m\u001b[0m\u001b[1;33m\u001b[0m\u001b[0m\n\u001b[0m",
      "\u001b[1;31mNameError\u001b[0m: name 'x' is not defined"
     ]
>>>>>>> upstream/main
    }
   ],
   "source": [
    "x"
   ]
  },
  {
   "cell_type": "markdown",
   "metadata": {
    "slideshow": {
     "slide_type": "fragment"
    }
   },
   "source": [
    "`x` is gone from memory."
   ]
  },
  {
   "cell_type": "markdown",
   "metadata": {},
   "source": [
    "This is thus \"in-use\" memory: dissipates when the software using it stops."
   ]
  },
  {
   "cell_type": "markdown",
   "metadata": {
    "slideshow": {
     "slide_type": "slide"
    }
   },
   "source": [
    "#### \"On disk\" = hard drive (or remote server):\n",
    "- long term storage\n",
    "- terabytes to petabytes\n",
    "- too slow for direct manipulation\n",
    "\n"
   ]
  },
  {
   "cell_type": "markdown",
   "metadata": {
    "cell_style": "center",
    "slideshow": {
     "slide_type": "slide"
    }
   },
   "source": [
    "#### File I/O: General\n",
    "\n",
    "1. Access file on disk, load in memory.\n",
    "2. Data in memory, save to disk."
   ]
  },
  {
   "cell_type": "markdown",
   "metadata": {
    "slideshow": {
     "slide_type": "slide"
    }
   },
   "source": [
    "#### 1. Locating files: directory and path with os library"
   ]
  },
  {
   "cell_type": "code",
<<<<<<< HEAD
   "execution_count": 1,
=======
   "execution_count": 2,
>>>>>>> upstream/main
   "metadata": {},
   "outputs": [],
   "source": [
    "import os"
   ]
  },
  {
   "cell_type": "markdown",
   "metadata": {
    "slideshow": {
     "slide_type": "slide"
    }
   },
   "source": [
    "Get the current working directory\n",
    "- Example of an absolute path string:"
   ]
  },
  {
   "cell_type": "code",
<<<<<<< HEAD
   "execution_count": 15,
=======
   "execution_count": 3,
>>>>>>> upstream/main
   "metadata": {},
   "outputs": [
    {
     "data": {
      "text/plain": [
<<<<<<< HEAD
       "'/Users/wesleydickens/Flatiron/NYC_DS_112023/Phase1_Topic3_Data_BasePython'"
      ]
     },
     "execution_count": 15,
=======
       "'C:\\\\Users\\\\prave\\\\NYC_DS_112023\\\\Phase1_Topic3_Data_BasePython'"
      ]
     },
     "execution_count": 3,
>>>>>>> upstream/main
     "metadata": {},
     "output_type": "execute_result"
    }
   ],
   "source": [
    "os.getcwd()"
   ]
  },
  {
   "cell_type": "markdown",
   "metadata": {
    "slideshow": {
     "slide_type": "slide"
    }
   },
   "source": [
    "List files and folders in current directory"
   ]
  },
  {
   "cell_type": "code",
<<<<<<< HEAD
   "execution_count": 16,
=======
   "execution_count": 4,
>>>>>>> upstream/main
   "metadata": {},
   "outputs": [
    {
     "data": {
      "text/plain": [
<<<<<<< HEAD
       "['Ph1_T3_2_FileIO.ipynb',\n",
       " 'Ph1_T3_3_CSVs.ipynb',\n",
       " 'Images',\n",
       " 'Ph1_T3_1_Python_BaseDataStructures.ipynb',\n",
       " '.ipynb_checkpoints',\n",
       " 'Data']"
      ]
     },
     "execution_count": 16,
=======
       "['.ipynb_checkpoints',\n",
       " 'Data',\n",
       " 'Images',\n",
       " 'Ph1_T3_1_Python_BaseDataStructures.ipynb',\n",
       " 'Ph1_T3_2_FileIO.ipynb',\n",
       " 'Ph1_T3_3_CSVs.ipynb']"
      ]
     },
     "execution_count": 4,
>>>>>>> upstream/main
     "metadata": {},
     "output_type": "execute_result"
    }
   ],
   "source": [
    "os.listdir()"
   ]
  },
  {
   "cell_type": "markdown",
   "metadata": {
    "slideshow": {
     "slide_type": "slide"
    }
   },
   "source": [
    "Change Directory (relative path)"
   ]
  },
  {
   "cell_type": "code",
<<<<<<< HEAD
   "execution_count": 17,
=======
   "execution_count": 5,
>>>>>>> upstream/main
   "metadata": {
    "scrolled": true
   },
   "outputs": [],
   "source": [
    "os.chdir('Data/')"
   ]
  },
  {
   "cell_type": "code",
<<<<<<< HEAD
   "execution_count": 18,
=======
   "execution_count": 6,
>>>>>>> upstream/main
   "metadata": {},
   "outputs": [
    {
     "data": {
      "text/plain": [
<<<<<<< HEAD
       "'/Users/wesleydickens/Flatiron/NYC_DS_112023/Phase1_Topic3_Data_BasePython/Data'"
      ]
     },
     "execution_count": 18,
=======
       "'C:\\\\Users\\\\prave\\\\NYC_DS_112023\\\\Phase1_Topic3_Data_BasePython\\\\Data'"
      ]
     },
     "execution_count": 6,
>>>>>>> upstream/main
     "metadata": {},
     "output_type": "execute_result"
    }
   ],
   "source": [
    "os.getcwd()"
   ]
  },
  {
   "cell_type": "code",
<<<<<<< HEAD
   "execution_count": 19,
=======
   "execution_count": 7,
>>>>>>> upstream/main
   "metadata": {
    "slideshow": {
     "slide_type": "fragment"
    }
   },
   "outputs": [
    {
     "data": {
      "text/plain": [
<<<<<<< HEAD
       "['dog.jpg',\n",
       " 'zen_of_python.txt',\n",
       " 'cities.xls',\n",
       " 'colors_and_numbers.parquet',\n",
       " 'raman_spectroscopy.csv',\n",
       " 'leia.xml',\n",
       " 'track_times.csv',\n",
       " 'doge_matrix.csv',\n",
       " 'nyc_2001_campaign_finance.json',\n",
       " 'Iris.csv',\n",
       " 'food_prices.csv',\n",
       " 'judgey_eyes.jpg',\n",
       " 'plot.pkl',\n",
       " 'track_times_header.csv',\n",
       " 'data_save.pkl',\n",
       " 'leia.json',\n",
       " 'penguins.csv']"
      ]
     },
     "execution_count": 19,
=======
       "['cities.xls',\n",
       " 'colors_and_numbers.parquet',\n",
       " 'data_save.pkl',\n",
       " 'dog.jpg',\n",
       " 'doge_matrix.csv',\n",
       " 'food_prices.csv',\n",
       " 'Iris.csv',\n",
       " 'judgey_eyes.jpg',\n",
       " 'leia.json',\n",
       " 'leia.xml',\n",
       " 'nyc_2001_campaign_finance.json',\n",
       " 'penguins.csv',\n",
       " 'plot.pkl',\n",
       " 'raman_spectroscopy.csv',\n",
       " 'track_times.csv',\n",
       " 'track_times_header.csv',\n",
       " 'zen_of_python.txt']"
      ]
     },
     "execution_count": 7,
>>>>>>> upstream/main
     "metadata": {},
     "output_type": "execute_result"
    }
   ],
   "source": [
    "os.listdir()"
   ]
  },
  {
   "cell_type": "markdown",
   "metadata": {
    "slideshow": {
     "slide_type": "slide"
    }
   },
   "source": [
    "Going back up a directory level"
   ]
  },
  {
   "cell_type": "code",
<<<<<<< HEAD
   "execution_count": 20,
=======
   "execution_count": 8,
>>>>>>> upstream/main
   "metadata": {},
   "outputs": [],
   "source": [
    "os.chdir('../')"
   ]
  },
  {
   "cell_type": "code",
<<<<<<< HEAD
   "execution_count": 21,
=======
   "execution_count": 9,
>>>>>>> upstream/main
   "metadata": {},
   "outputs": [
    {
     "data": {
      "text/plain": [
<<<<<<< HEAD
       "'/Users/wesleydickens/Flatiron/NYC_DS_112023/Phase1_Topic3_Data_BasePython'"
      ]
     },
     "execution_count": 21,
=======
       "'C:\\\\Users\\\\prave\\\\NYC_DS_112023\\\\Phase1_Topic3_Data_BasePython'"
      ]
     },
     "execution_count": 9,
>>>>>>> upstream/main
     "metadata": {},
     "output_type": "execute_result"
    }
   ],
   "source": [
    "os.getcwd()"
   ]
  },
  {
   "cell_type": "code",
<<<<<<< HEAD
   "execution_count": 22,
=======
   "execution_count": 10,
>>>>>>> upstream/main
   "metadata": {
    "slideshow": {
     "slide_type": "fragment"
    }
   },
   "outputs": [
    {
     "data": {
      "text/plain": [
<<<<<<< HEAD
       "['Ph1_T3_2_FileIO.ipynb',\n",
       " 'Ph1_T3_3_CSVs.ipynb',\n",
       " 'Images',\n",
       " 'Ph1_T3_1_Python_BaseDataStructures.ipynb',\n",
       " '.ipynb_checkpoints',\n",
       " 'Data']"
      ]
     },
     "execution_count": 22,
=======
       "['.ipynb_checkpoints',\n",
       " 'Data',\n",
       " 'Images',\n",
       " 'Ph1_T3_1_Python_BaseDataStructures.ipynb',\n",
       " 'Ph1_T3_2_FileIO.ipynb',\n",
       " 'Ph1_T3_3_CSVs.ipynb']"
      ]
     },
     "execution_count": 10,
>>>>>>> upstream/main
     "metadata": {},
     "output_type": "execute_result"
    }
   ],
   "source": [
    "os.listdir()"
   ]
  },
  {
   "cell_type": "markdown",
   "metadata": {
    "slideshow": {
     "slide_type": "slide"
    }
   },
   "source": [
    "#### OS path checking\n",
    "- Is file there?"
   ]
  },
  {
   "cell_type": "code",
<<<<<<< HEAD
   "execution_count": 23,
=======
   "execution_count": 11,
>>>>>>> upstream/main
   "metadata": {
    "slideshow": {
     "slide_type": "fragment"
    }
   },
   "outputs": [
    {
     "data": {
      "text/plain": [
       "True"
      ]
     },
<<<<<<< HEAD
     "execution_count": 23,
=======
     "execution_count": 11,
>>>>>>> upstream/main
     "metadata": {},
     "output_type": "execute_result"
    }
   ],
   "source": [
<<<<<<< HEAD
    "os.path.exists('Data/zen_of_python.txt')"
=======
    "os.path.exists('C:\\\\Users\\\\prave\\\\NYC_DS_112023\\\\Phase1_Topic3_Data_BasePython\\\\Data\\\\zen_of_python.txt')"
>>>>>>> upstream/main
   ]
  },
  {
   "cell_type": "code",
<<<<<<< HEAD
   "execution_count": 30,
=======
   "execution_count": 13,
>>>>>>> upstream/main
   "metadata": {},
   "outputs": [
    {
     "data": {
      "text/plain": [
<<<<<<< HEAD
       "'/Users/wesleydickens/Flatiron/NYC_DS_112023/Phase1_Topic3_Data_BasePython'"
      ]
     },
     "execution_count": 30,
=======
       "'C:\\\\Users\\\\prave\\\\NYC_DS_112023\\\\Phase1_Topic3_Data_BasePython'"
      ]
     },
     "execution_count": 13,
>>>>>>> upstream/main
     "metadata": {},
     "output_type": "execute_result"
    }
   ],
   "source": [
    "os.getcwd()"
   ]
  },
  {
   "cell_type": "code",
<<<<<<< HEAD
   "execution_count": 32,
=======
   "execution_count": 14,
>>>>>>> upstream/main
   "metadata": {
    "slideshow": {
     "slide_type": "fragment"
    }
   },
   "outputs": [
    {
     "data": {
      "text/plain": [
       "True"
      ]
     },
<<<<<<< HEAD
     "execution_count": 32,
=======
     "execution_count": 14,
>>>>>>> upstream/main
     "metadata": {},
     "output_type": "execute_result"
    }
   ],
   "source": [
    "os.path.exists('Data/zen_of_python.txt')"
   ]
  },
  {
   "cell_type": "markdown",
   "metadata": {
    "slideshow": {
     "slide_type": "slide"
    }
   },
   "source": [
    "Let's create a path string for the relative path for the Zen of Python"
   ]
  },
  {
   "cell_type": "code",
<<<<<<< HEAD
   "execution_count": 2,
=======
   "execution_count": 15,
>>>>>>> upstream/main
   "metadata": {
    "slideshow": {
     "slide_type": "-"
    }
   },
   "outputs": [],
   "source": [
    "file_path = \"Data/zen_of_python.txt\""
   ]
  },
  {
   "cell_type": "markdown",
   "metadata": {
    "slideshow": {
     "slide_type": "slide"
    }
   },
   "source": [
    "#### 2. Opening a File in Python\n",
    "\n",
    "- Establishes communication between Python kernel and file on disk.\n",
    "- `open` built-in function.\n",
    "- File can be opened in different modes: read, write, read/write\n",
    "    - read (mode = 'r')"
   ]
  },
  {
   "cell_type": "markdown",
   "metadata": {
    "slideshow": {
     "slide_type": "slide"
    }
   },
   "source": [
    "Opening a file for read:"
   ]
  },
  {
   "cell_type": "code",
<<<<<<< HEAD
   "execution_count": 3,
=======
   "execution_count": 16,
>>>>>>> upstream/main
   "metadata": {},
   "outputs": [],
   "source": [
    "file_obj = open(file_path, 'r')"
   ]
  },
  {
   "cell_type": "markdown",
   "metadata": {
    "slideshow": {
     "slide_type": "fragment"
    }
   },
   "source": [
    "Ok, we opened the file! What do we have now?"
   ]
  },
  {
   "cell_type": "code",
<<<<<<< HEAD
   "execution_count": 4,
=======
   "execution_count": 17,
>>>>>>> upstream/main
   "metadata": {
    "slideshow": {
     "slide_type": "fragment"
    }
   },
   "outputs": [
    {
     "data": {
      "text/plain": [
       "_io.TextIOWrapper"
      ]
     },
<<<<<<< HEAD
     "execution_count": 4,
=======
     "execution_count": 17,
>>>>>>> upstream/main
     "metadata": {},
     "output_type": "execute_result"
    }
   ],
   "source": [
    "type(file_obj)"
   ]
  },
  {
   "cell_type": "markdown",
   "metadata": {
    "slideshow": {
     "slide_type": "fragment"
    }
   },
   "source": [
    "This is a text file object: communication enabled for reading operations."
   ]
  },
  {
   "cell_type": "markdown",
   "metadata": {
    "slideshow": {
     "slide_type": "slide"
    }
   },
   "source": [
    "#### 3. Reading Contents of the File\n",
    "\n",
    "- use various methods of object to actually read file contents.\n",
    "    - file_obj.readline(): reads file line by line tracking position.\n",
    "    - file_obj.readlines(): returns list with each element a string for a given line.\n",
    "    - file_obj.read(): takes entire file in as one string."
   ]
  },
  {
   "cell_type": "markdown",
   "metadata": {
    "slideshow": {
     "slide_type": "slide"
    }
   },
   "source": [
    "#### .readline()"
   ]
  },
  {
   "cell_type": "code",
<<<<<<< HEAD
   "execution_count": 47,
=======
   "execution_count": 26,
>>>>>>> upstream/main
   "metadata": {},
   "outputs": [
    {
     "data": {
      "text/plain": [
       "'The Zen of Python, by Tim Peters\\n'"
      ]
     },
<<<<<<< HEAD
     "execution_count": 47,
=======
     "execution_count": 26,
>>>>>>> upstream/main
     "metadata": {},
     "output_type": "execute_result"
    }
   ],
   "source": [
    "file_obj.readline()"
   ]
  },
  {
   "cell_type": "markdown",
   "metadata": {
    "slideshow": {
     "slide_type": "fragment"
    }
   },
   "source": [
    "When you want to process line-by-line:\n",
    "- When you have huge file on disk\n",
    "- Helpful with memory usage"
   ]
  },
  {
   "cell_type": "markdown",
   "metadata": {
    "slideshow": {
     "slide_type": "slide"
    }
   },
   "source": [
    "To go back to beginning:"
   ]
  },
  {
   "cell_type": "code",
<<<<<<< HEAD
   "execution_count": 46,
=======
   "execution_count": 27,
>>>>>>> upstream/main
   "metadata": {},
   "outputs": [
    {
     "data": {
      "text/plain": [
       "0"
      ]
     },
<<<<<<< HEAD
     "execution_count": 46,
=======
     "execution_count": 27,
>>>>>>> upstream/main
     "metadata": {},
     "output_type": "execute_result"
    }
   ],
   "source": [
    "file_obj.seek(0)"
   ]
  },
  {
   "cell_type": "markdown",
   "metadata": {
    "slideshow": {
     "slide_type": "slide"
    }
   },
   "source": [
    "#### .readlines()"
   ]
  },
  {
   "cell_type": "code",
<<<<<<< HEAD
   "execution_count": 5,
=======
   "execution_count": 28,
>>>>>>> upstream/main
   "metadata": {
    "cell_style": "split",
    "slideshow": {
     "slide_type": "fragment"
    }
   },
   "outputs": [
    {
     "data": {
      "text/plain": [
       "['The Zen of Python, by Tim Peters\\n',\n",
       " '\\n',\n",
       " 'Beautiful is better than ugly.\\n',\n",
       " 'Explicit is better than implicit.\\n',\n",
       " 'Simple is better than complex.\\n',\n",
       " 'Complex is better than complicated.\\n',\n",
       " 'Flat is better than nested.\\n',\n",
       " 'Sparse is better than dense.\\n',\n",
       " 'Readability counts.\\n',\n",
       " \"Special cases aren't special enough to break the rules.\\n\",\n",
       " 'Although practicality beats purity.\\n',\n",
       " 'Errors should never pass silently.\\n',\n",
       " 'Unless explicitly silenced.\\n',\n",
       " 'In the face of ambiguity, refuse the temptation to guess.\\n',\n",
       " 'There should be one-- and preferably only one --obvious way to do it.\\n',\n",
       " \"Although that way may not be obvious at first unless you're Dutch.\\n\",\n",
       " 'Now is better than never.\\n',\n",
       " 'Although never is often better than *right* now.\\n',\n",
       " \"If the implementation is hard to explain, it's a bad idea.\\n\",\n",
       " 'If the implementation is easy to explain, it may be a good idea.\\n',\n",
       " \"Namespaces are one honking great idea -- let's do more of those!\\n\",\n",
       " '\\n']"
      ]
     },
<<<<<<< HEAD
     "execution_count": 5,
=======
     "execution_count": 28,
>>>>>>> upstream/main
     "metadata": {},
     "output_type": "execute_result"
    }
   ],
   "source": [
    "content = file_obj.readlines()\n",
    "content"
   ]
  },
  {
   "cell_type": "code",
<<<<<<< HEAD
   "execution_count": 52,
=======
   "execution_count": 29,
>>>>>>> upstream/main
   "metadata": {
    "cell_style": "split",
    "slideshow": {
     "slide_type": "fragment"
    }
   },
   "outputs": [
    {
     "name": "stdout",
     "output_type": "stream",
     "text": [
      "<class 'list'>\n"
     ]
    },
    {
     "data": {
      "text/plain": [
<<<<<<< HEAD
       "[]"
      ]
     },
     "execution_count": 52,
=======
       "['The Zen of Python, by Tim Peters\\n',\n",
       " '\\n',\n",
       " 'Beautiful is better than ugly.\\n',\n",
       " 'Explicit is better than implicit.\\n']"
      ]
     },
     "execution_count": 29,
>>>>>>> upstream/main
     "metadata": {},
     "output_type": "execute_result"
    }
   ],
   "source": [
    "print(type(content))\n",
    "content[0:4]"
   ]
  },
  {
   "cell_type": "markdown",
   "metadata": {
    "slideshow": {
     "slide_type": "slide"
    }
   },
   "source": [
    "#### .read()"
   ]
  },
  {
   "cell_type": "code",
<<<<<<< HEAD
   "execution_count": 54,
=======
   "execution_count": 30,
>>>>>>> upstream/main
   "metadata": {},
   "outputs": [
    {
     "data": {
      "text/plain": [
       "''"
      ]
     },
<<<<<<< HEAD
     "execution_count": 54,
=======
     "execution_count": 30,
>>>>>>> upstream/main
     "metadata": {},
     "output_type": "execute_result"
    }
   ],
   "source": [
    "file_obj.read()"
   ]
  },
  {
   "cell_type": "markdown",
   "metadata": {
    "slideshow": {
     "slide_type": "fragment"
    }
   },
   "source": [
    "What happened?"
   ]
  },
  {
   "cell_type": "code",
<<<<<<< HEAD
   "execution_count": 55,
=======
   "execution_count": 31,
>>>>>>> upstream/main
   "metadata": {
    "slideshow": {
     "slide_type": "subslide"
    }
   },
   "outputs": [
    {
     "data": {
      "text/plain": [
       "\"The Zen of Python, by Tim Peters\\n\\nBeautiful is better than ugly.\\nExplicit is better than implicit.\\nSimple is better than complex.\\nComplex is better than complicated.\\nFlat is better than nested.\\nSparse is better than dense.\\nReadability counts.\\nSpecial cases aren't special enough to break the rules.\\nAlthough practicality beats purity.\\nErrors should never pass silently.\\nUnless explicitly silenced.\\nIn the face of ambiguity, refuse the temptation to guess.\\nThere should be one-- and preferably only one --obvious way to do it.\\nAlthough that way may not be obvious at first unless you're Dutch.\\nNow is better than never.\\nAlthough never is often better than *right* now.\\nIf the implementation is hard to explain, it's a bad idea.\\nIf the implementation is easy to explain, it may be a good idea.\\nNamespaces are one honking great idea -- let's do more of those!\\n\\n\""
      ]
     },
<<<<<<< HEAD
     "execution_count": 55,
=======
     "execution_count": 31,
>>>>>>> upstream/main
     "metadata": {},
     "output_type": "execute_result"
    }
   ],
   "source": [
    "file_obj.seek(0)\n",
    "file_obj.read()"
   ]
  },
  {
   "cell_type": "markdown",
   "metadata": {
    "slideshow": {
     "slide_type": "slide"
    }
   },
   "source": [
    "#### 4. Closing the File\n",
    "\n",
    "Once you are finished accessing file:\n",
    "- Close communication channel to file!\n",
    "- Can cause problems if you dont do this. \n",
    "- Easy to forget to close.\n",
    "- `.close` method."
   ]
  },
  {
   "cell_type": "code",
<<<<<<< HEAD
   "execution_count": 56,
=======
   "execution_count": 32,
>>>>>>> upstream/main
   "metadata": {
    "slideshow": {
     "slide_type": "subslide"
    }
   },
   "outputs": [],
   "source": [
    "file_obj.close()"
   ]
  },
  {
   "cell_type": "markdown",
   "metadata": {
    "slideshow": {
     "slide_type": "fragment"
    }
   },
   "source": [
    "This means that your Python code is fully disconnected from the file. If you try to read from the file object again, you will get an error message:"
   ]
  },
  {
   "cell_type": "code",
<<<<<<< HEAD
   "execution_count": 57,
=======
   "execution_count": 33,
>>>>>>> upstream/main
   "metadata": {
    "slideshow": {
     "slide_type": "fragment"
    }
   },
   "outputs": [
    {
     "ename": "ValueError",
     "evalue": "I/O operation on closed file.",
     "output_type": "error",
     "traceback": [
<<<<<<< HEAD
      "\u001b[0;31m---------------------------------------------------------------------------\u001b[0m",
      "\u001b[0;31mValueError\u001b[0m                                Traceback (most recent call last)",
      "Cell \u001b[0;32mIn[57], line 1\u001b[0m\n\u001b[0;32m----> 1\u001b[0m \u001b[43mfile_obj\u001b[49m\u001b[38;5;241;43m.\u001b[39;49m\u001b[43mreadlines\u001b[49m\u001b[43m(\u001b[49m\u001b[43m)\u001b[49m\n",
      "\u001b[0;31mValueError\u001b[0m: I/O operation on closed file."
=======
      "\u001b[1;31m---------------------------------------------------------------------------\u001b[0m",
      "\u001b[1;31mValueError\u001b[0m                                Traceback (most recent call last)",
      "\u001b[1;32m~\\AppData\\Local\\Temp/ipykernel_18476/788126028.py\u001b[0m in \u001b[0;36m<module>\u001b[1;34m\u001b[0m\n\u001b[1;32m----> 1\u001b[1;33m \u001b[0mfile_obj\u001b[0m\u001b[1;33m.\u001b[0m\u001b[0mreadlines\u001b[0m\u001b[1;33m(\u001b[0m\u001b[1;33m)\u001b[0m\u001b[1;33m\u001b[0m\u001b[1;33m\u001b[0m\u001b[0m\n\u001b[0m",
      "\u001b[1;31mValueError\u001b[0m: I/O operation on closed file."
>>>>>>> upstream/main
     ]
    }
   ],
   "source": [
    "file_obj.readlines()"
   ]
  },
  {
   "cell_type": "markdown",
   "metadata": {
    "slideshow": {
     "slide_type": "slide"
    }
   },
   "source": [
    "File is closed but content in memory.\n",
    "\n",
    "- Analyze the data using Python.\n",
    "- E.g., count how many lines of that document contain the phrase \"is better than\":"
   ]
  },
  {
   "cell_type": "code",
<<<<<<< HEAD
   "execution_count": 6,
=======
   "execution_count": 37,
>>>>>>> upstream/main
   "metadata": {},
   "outputs": [
    {
     "name": "stdout",
     "output_type": "stream",
     "text": [
<<<<<<< HEAD
      "The phrase 'is better than' appears 7 times\n"
=======
      "The phrase 'is better than' appears in 7   lines\n"
>>>>>>> upstream/main
     ]
    }
   ],
   "source": [
    "is_better_than_count = 0\n",
    "for line in content:\n",
    "    if \"is better than\" in line:\n",
    "        is_better_than_count += 1\n",
    "        \n",
    "print(\"The phrase 'is better than' appears in\", is_better_than_count, \"  lines\")"
   ]
  },
  {
   "cell_type": "markdown",
   "metadata": {
    "slideshow": {
     "slide_type": "slide"
    }
   },
   "source": [
    "#### 5. The context manager\n",
    "\n",
    "\n",
    "Use this almost always:\n",
    "- Construction handles opening/closing automatically\n",
    "- Shortened syntax Using `with`"
   ]
  },
  {
   "cell_type": "code",
   "execution_count": 59,
   "metadata": {
    "cell_style": "split",
    "slideshow": {
     "slide_type": "fragment"
    }
   },
   "outputs": [],
   "source": [
    "file_obj = open(file_path)\n",
    "file_contents = file_obj.readlines()\n",
    "file_obj.close()"
   ]
  },
  {
   "cell_type": "code",
<<<<<<< HEAD
   "execution_count": 7,
=======
   "execution_count": 40,
>>>>>>> upstream/main
   "metadata": {
    "cell_style": "split",
    "slideshow": {
     "slide_type": "fragment"
    }
   },
   "outputs": [],
   "source": [
    "with open(file_path) as file_obj:\n",
    "    file_contents = file_obj.readlines()"
   ]
  },
  {
   "cell_type": "markdown",
   "metadata": {
    "slideshow": {
     "slide_type": "slide"
    }
   },
   "source": [
    "#### Writing to Files\n",
    "\n",
    "Save information in memory in Python to a file on disk: file write. \n",
    "\n",
    "Example flow:\n",
    "1. Read raw file into memory. \n",
    "2. Process data (list of strings, etc.)\n",
    "3. Save processed data to new file on disk.\n",
    "\n"
   ]
  },
  {
   "cell_type": "markdown",
   "metadata": {
    "slideshow": {
     "slide_type": "slide"
    }
   },
   "source": [
    "The process for reading the data has already been completed, and each line is stored in the variable `file_contents`:"
   ]
  },
  {
   "cell_type": "code",
<<<<<<< HEAD
   "execution_count": 8,
=======
   "execution_count": 41,
>>>>>>> upstream/main
   "metadata": {
    "slideshow": {
     "slide_type": "fragment"
    }
   },
   "outputs": [
    {
     "data": {
      "text/plain": [
       "['The Zen of Python, by Tim Peters\\n',\n",
       " '\\n',\n",
       " 'Beautiful is better than ugly.\\n',\n",
       " 'Explicit is better than implicit.\\n',\n",
       " 'Simple is better than complex.\\n',\n",
       " 'Complex is better than complicated.\\n',\n",
       " 'Flat is better than nested.\\n',\n",
       " 'Sparse is better than dense.\\n',\n",
       " 'Readability counts.\\n',\n",
       " \"Special cases aren't special enough to break the rules.\\n\",\n",
       " 'Although practicality beats purity.\\n',\n",
       " 'Errors should never pass silently.\\n',\n",
       " 'Unless explicitly silenced.\\n',\n",
       " 'In the face of ambiguity, refuse the temptation to guess.\\n',\n",
       " 'There should be one-- and preferably only one --obvious way to do it.\\n',\n",
       " \"Although that way may not be obvious at first unless you're Dutch.\\n\",\n",
       " 'Now is better than never.\\n',\n",
       " 'Although never is often better than *right* now.\\n',\n",
       " \"If the implementation is hard to explain, it's a bad idea.\\n\",\n",
       " 'If the implementation is easy to explain, it may be a good idea.\\n',\n",
       " \"Namespaces are one honking great idea -- let's do more of those!\\n\",\n",
       " '\\n']"
      ]
     },
<<<<<<< HEAD
     "execution_count": 8,
=======
     "execution_count": 41,
>>>>>>> upstream/main
     "metadata": {},
     "output_type": "execute_result"
    }
   ],
   "source": [
    "file_contents"
   ]
  },
  {
   "cell_type": "markdown",
   "metadata": {
    "slideshow": {
     "slide_type": "slide"
    }
   },
   "source": [
    "Then this code will create a cleaned version:"
   ]
  },
  {
   "cell_type": "code",
<<<<<<< HEAD
   "execution_count": 10,
=======
   "execution_count": 42,
>>>>>>> upstream/main
   "metadata": {
    "slideshow": {
     "slide_type": "fragment"
    }
   },
   "outputs": [
    {
<<<<<<< HEAD
     "name": "stdout",
     "output_type": "stream",
     "text": [
      "The Zen of Python, by Tim Peters\n",
      "\n",
      "\n",
      "\n",
      "Beautiful is better than ugly.\n",
      "\n",
      "Explicit is better than implicit.\n",
      "\n",
      "Simple is better than complex.\n",
      "\n",
      "Complex is better than complicated.\n",
      "\n",
      "Flat is better than nested.\n",
      "\n",
      "Sparse is better than dense.\n",
      "\n",
      "Readability counts.\n",
      "\n",
      "Special cases aren't special enough to break the rules.\n",
      "\n",
      "Although practicality beats purity.\n",
      "\n",
      "Errors should never pass silently.\n",
      "\n",
      "Unless explicitly silenced.\n",
      "\n",
      "In the face of ambiguity, refuse the temptation to guess.\n",
      "\n",
      "There should be one-- and preferably only one --obvious way to do it.\n",
      "\n",
      "Although that way may not be obvious at first unless you're Dutch.\n",
      "\n",
      "Now is better than never.\n",
      "\n",
      "Although never is often better than *right* now.\n",
      "\n",
      "If the implementation is hard to explain, it's a bad idea.\n",
      "\n",
      "If the implementation is easy to explain, it may be a good idea.\n",
      "\n",
      "Namespaces are one honking great idea -- let's do more of those!\n",
      "\n",
      "\n",
      "\n"
     ]
=======
     "data": {
      "text/plain": [
       "['the zen of python by tim peters\\n',\n",
       " '\\n',\n",
       " 'beautiful is better than ugly\\n',\n",
       " 'explicit is better than implicit\\n',\n",
       " 'simple is better than complex\\n',\n",
       " 'complex is better than complicated\\n',\n",
       " 'flat is better than nested\\n',\n",
       " 'sparse is better than dense\\n',\n",
       " 'readability counts\\n',\n",
       " \"special cases aren't special enough to break the rules\\n\",\n",
       " 'although practicality beats purity\\n',\n",
       " 'errors should never pass silently\\n',\n",
       " 'unless explicitly silenced\\n',\n",
       " 'in the face of ambiguity refuse the temptation to guess\\n',\n",
       " 'there should be one and preferably only one obvious way to do it\\n',\n",
       " \"although that way may not be obvious at first unless you're dutch\\n\",\n",
       " 'now is better than never\\n',\n",
       " 'although never is often better than right now\\n',\n",
       " \"if the implementation is hard to explain it's a bad idea\\n\",\n",
       " 'if the implementation is easy to explain it may be a good idea\\n',\n",
       " \"namespaces are one honking great idea  let's do more of those\\n\",\n",
       " '\\n']"
      ]
     },
     "execution_count": 42,
     "metadata": {},
     "output_type": "execute_result"
>>>>>>> upstream/main
    }
   ],
   "source": [
    "import string\n",
    "file_contents_cleaned = []\n",
    "for line in file_contents:\n",
    "    words = line.split()\n",
    "    cleaned_words = [word.strip(string.punctuation).lower() for word in words]\n",
    "    cleaned_line = \" \".join(cleaned_words) + \"\\n\"\n",
    "    file_contents_cleaned.append(cleaned_line)\n",
    "# file_contents_cleaned"
   ]
  },
  {
   "cell_type": "markdown",
   "metadata": {
    "slideshow": {
     "slide_type": "slide"
    }
   },
   "source": [
    "Check if `zen_of_python_cleaned.txt` exists."
   ]
  },
  {
   "cell_type": "code",
<<<<<<< HEAD
   "execution_count": 68,
=======
   "execution_count": 43,
>>>>>>> upstream/main
   "metadata": {
    "scrolled": true,
    "slideshow": {
     "slide_type": "-"
    }
   },
   "outputs": [
    {
     "data": {
      "text/plain": [
<<<<<<< HEAD
       "['Ph1_T3_2_FileIO.ipynb',\n",
       " 'Ph1_T3_3_CSVs.ipynb',\n",
       " 'Images',\n",
       " 'Ph1_T3_1_Python_BaseDataStructures.ipynb',\n",
       " '.ipynb_checkpoints',\n",
       " 'Data']"
      ]
     },
     "execution_count": 68,
=======
       "['.ipynb_checkpoints',\n",
       " 'Data',\n",
       " 'Images',\n",
       " 'Ph1_T3_1_Python_BaseDataStructures.ipynb',\n",
       " 'Ph1_T3_2_FileIO.ipynb',\n",
       " 'Ph1_T3_3_CSVs.ipynb']"
      ]
     },
     "execution_count": 43,
>>>>>>> upstream/main
     "metadata": {},
     "output_type": "execute_result"
    }
   ],
   "source": [
    "os.listdir()"
   ]
  },
  {
   "cell_type": "markdown",
   "metadata": {
    "slideshow": {
     "slide_type": "slide"
    }
   },
   "source": [
    "#### To write file:\n",
    "\n",
    "1. open(path, mode = 'w) for write mode\n",
    "2. .write() method on file object"
   ]
  },
  {
   "cell_type": "code",
<<<<<<< HEAD
   "execution_count": 72,
=======
   "execution_count": 44,
>>>>>>> upstream/main
   "metadata": {},
   "outputs": [
    {
     "data": {
      "text/plain": [
       "['the zen of python by tim peters\\n',\n",
       " '\\n',\n",
       " 'beautiful is better than ugly\\n',\n",
       " 'explicit is better than implicit\\n',\n",
       " 'simple is better than complex\\n',\n",
       " 'complex is better than complicated\\n',\n",
       " 'flat is better than nested\\n',\n",
       " 'sparse is better than dense\\n',\n",
       " 'readability counts\\n',\n",
       " \"special cases aren't special enough to break the rules\\n\",\n",
       " 'although practicality beats purity\\n',\n",
       " 'errors should never pass silently\\n',\n",
       " 'unless explicitly silenced\\n',\n",
       " 'in the face of ambiguity refuse the temptation to guess\\n',\n",
       " 'there should be one and preferably only one obvious way to do it\\n',\n",
       " \"although that way may not be obvious at first unless you're dutch\\n\",\n",
       " 'now is better than never\\n',\n",
       " 'although never is often better than right now\\n',\n",
       " \"if the implementation is hard to explain it's a bad idea\\n\",\n",
       " 'if the implementation is easy to explain it may be a good idea\\n',\n",
       " \"namespaces are one honking great idea  let's do more of those\\n\",\n",
       " '\\n']"
      ]
     },
<<<<<<< HEAD
     "execution_count": 72,
=======
     "execution_count": 44,
>>>>>>> upstream/main
     "metadata": {},
     "output_type": "execute_result"
    }
   ],
   "source": [
    "file_contents_cleaned"
   ]
  },
  {
   "cell_type": "code",
<<<<<<< HEAD
   "execution_count": 76,
   "metadata": {},
=======
   "execution_count": 47,
   "metadata": {
    "slideshow": {
     "slide_type": "slide"
    }
   },
>>>>>>> upstream/main
   "outputs": [
    {
     "data": {
      "text/plain": [
<<<<<<< HEAD
       "\"the zen of python by tim peters\\n \\n beautiful is better than ugly\\n explicit is better than implicit\\n simple is better than complex\\n complex is better than complicated\\n flat is better than nested\\n sparse is better than dense\\n readability counts\\n special cases aren't special enough to break the rules\\n although practicality beats purity\\n errors should never pass silently\\n unless explicitly silenced\\n in the face of ambiguity refuse the temptation to guess\\n there should be one and preferably only one obvious way to do it\\n although that way may not be obvious at first unless you're dutch\\n now is better than never\\n although never is often better than right now\\n if the implementation is hard to explain it's a bad idea\\n if the implementation is easy to explain it may be a good idea\\n namespaces are one honking great idea  let's do more of those\\n \\n\""
      ]
     },
     "execution_count": 76,
=======
       "\"the zen of python by tim peters\\n\\nbeautiful is better than ugly\\nexplicit is better than implicit\\nsimple is better than complex\\ncomplex is better than complicated\\nflat is better than nested\\nsparse is better than dense\\nreadability counts\\nspecial cases aren't special enough to break the rules\\nalthough practicality beats purity\\nerrors should never pass silently\\nunless explicitly silenced\\nin the face of ambiguity refuse the temptation to guess\\nthere should be one and preferably only one obvious way to do it\\nalthough that way may not be obvious at first unless you're dutch\\nnow is better than never\\nalthough never is often better than right now\\nif the implementation is hard to explain it's a bad idea\\nif the implementation is easy to explain it may be a good idea\\nnamespaces are one honking great idea  let's do more of those\\n\\n\""
      ]
     },
     "execution_count": 47,
>>>>>>> upstream/main
     "metadata": {},
     "output_type": "execute_result"
    }
   ],
   "source": [
<<<<<<< HEAD
    "output_string = \" \".join(file_contents_cleaned)\n",
    "\n",
=======
    "output_string = \"\".join(file_contents_cleaned)\n",
>>>>>>> upstream/main
    "output_string"
   ]
  },
  {
   "cell_type": "code",
<<<<<<< HEAD
   "execution_count": 77,
=======
   "execution_count": 46,
>>>>>>> upstream/main
   "metadata": {
    "slideshow": {
     "slide_type": "fragment"
    }
   },
   "outputs": [],
   "source": [
    "with open(\"zen_of_python_cleaned.txt\", mode=\"w\") as output_file_obj:\n",
    "    output_file_obj.write(output_string)"
   ]
  },
  {
   "cell_type": "markdown",
   "metadata": {
    "slideshow": {
     "slide_type": "slide"
    }
   },
   "source": [
    "**If you are ever wondering why your data has not actually been saved to a file, double-check that the file has been closed, or that the buffer has been cleared in some other way.**\n",
    "\n",
    "- Close files when you are finished with them whether the files are used for reading or writing\n",
    "- Writing is where failing to close a file can cause more significant problems.\n",
    "- Make your life less stressful with the context manager."
   ]
  },
  {
   "cell_type": "markdown",
   "metadata": {
    "slideshow": {
     "slide_type": "slide"
    }
   },
   "source": [
    "Next, we'll be using what we learned to open and read from/write to common data file formats:\n",
    "- CSV\n",
    "- JSON\n",
    "- Excel (xls)\n",
    "- Images (jpg, gif, etc)\n",
    "- Pickling (.pkl)"
   ]
  }
 ],
 "metadata": {
  "celltoolbar": "Slideshow",
  "kernelspec": {
   "display_name": "Python 3 (ipykernel)",
   "language": "python",
   "name": "python3"
  },
  "language_info": {
   "codemirror_mode": {
    "name": "ipython",
    "version": 3
   },
   "file_extension": ".py",
   "mimetype": "text/x-python",
   "name": "python",
   "nbconvert_exporter": "python",
   "pygments_lexer": "ipython3",
   "version": "3.12.0"
  }
 },
 "nbformat": 4,
 "nbformat_minor": 4
}
